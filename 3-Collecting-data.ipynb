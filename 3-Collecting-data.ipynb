{
 "cells": [
  {
   "cell_type": "code",
   "execution_count": 1,
   "metadata": {},
   "outputs": [],
   "source": [
    "import urllib3\n",
    "import pandas as pd\n",
    "from bs4 import BeautifulSoup\n",
    "import matplotlib.pyplot as plt\n",
    "\n"
   ]
  },
  {
   "cell_type": "code",
   "execution_count": 2,
   "metadata": {},
   "outputs": [],
   "source": [
    "# GET content of page\n",
    "http = urllib3.PoolManager()\n",
    "r = http.request('GET', 'https://www.top500.org/')\n",
    "\n",
    "\n",
    "soup = BeautifulSoup(r.data, 'html.parser')\n",
    "#print(soup.prettify())"
   ]
  },
  {
   "cell_type": "code",
   "execution_count": 3,
   "metadata": {},
   "outputs": [
    {
     "name": "stdout",
     "output_type": "stream",
     "text": [
      "https://www.top500.org/lists/top500/2020/06/highs\n"
     ]
    }
   ],
   "source": [
    "# Scraping latest article's href\n",
    "history = []\n",
    "for link in soup.find_all('a'):\n",
    "    link_str = link.get('href')\n",
    "    if 'lists/top500/' in link_str:\n",
    "        history.append(link_str)\n",
    "        \n",
    "history.sort()\n",
    "article_href = 'https://www.top500.org' + history.pop()\n",
    "print(article_href)\n"
   ]
  },
  {
   "cell_type": "code",
   "execution_count": 4,
   "metadata": {},
   "outputs": [
    {
     "data": {
      "text/html": [
       "<div>\n",
       "<style scoped>\n",
       "    .dataframe tbody tr th:only-of-type {\n",
       "        vertical-align: middle;\n",
       "    }\n",
       "\n",
       "    .dataframe tbody tr th {\n",
       "        vertical-align: top;\n",
       "    }\n",
       "\n",
       "    .dataframe thead th {\n",
       "        text-align: right;\n",
       "    }\n",
       "</style>\n",
       "<table border=\"1\" class=\"dataframe\">\n",
       "  <thead>\n",
       "    <tr style=\"text-align: right;\">\n",
       "      <th></th>\n",
       "      <th>Rank</th>\n",
       "      <th>Site</th>\n",
       "      <th>System</th>\n",
       "      <th>Cores</th>\n",
       "      <th>Rmax (TFlop/s)</th>\n",
       "      <th>Rpeak (TFlop/s)</th>\n",
       "      <th>Power (kW)</th>\n",
       "    </tr>\n",
       "  </thead>\n",
       "  <tbody>\n",
       "    <tr>\n",
       "      <th>0</th>\n",
       "      <td>1</td>\n",
       "      <td>RIKEN Center for Computational ScienceJapan</td>\n",
       "      <td>Supercomputer Fugaku - Supercomputer Fugaku, A...</td>\n",
       "      <td>7299072</td>\n",
       "      <td>415530.0</td>\n",
       "      <td>513854.7</td>\n",
       "      <td>28335.0</td>\n",
       "    </tr>\n",
       "    <tr>\n",
       "      <th>1</th>\n",
       "      <td>2</td>\n",
       "      <td>DOE/SC/Oak Ridge National LaboratoryUnited States</td>\n",
       "      <td>Summit - IBM Power System AC922, IBM POWER9 22...</td>\n",
       "      <td>2414592</td>\n",
       "      <td>148600.0</td>\n",
       "      <td>200794.9</td>\n",
       "      <td>10096.0</td>\n",
       "    </tr>\n",
       "    <tr>\n",
       "      <th>2</th>\n",
       "      <td>3</td>\n",
       "      <td>DOE/NNSA/LLNLUnited States</td>\n",
       "      <td>Sierra - IBM Power System AC922, IBM POWER9 22...</td>\n",
       "      <td>1572480</td>\n",
       "      <td>94640.0</td>\n",
       "      <td>125712.0</td>\n",
       "      <td>7438.0</td>\n",
       "    </tr>\n",
       "  </tbody>\n",
       "</table>\n",
       "</div>"
      ],
      "text/plain": [
       "   Rank                                               Site  \\\n",
       "0     1        RIKEN Center for Computational ScienceJapan   \n",
       "1     2  DOE/SC/Oak Ridge National LaboratoryUnited States   \n",
       "2     3                         DOE/NNSA/LLNLUnited States   \n",
       "\n",
       "                                              System    Cores  Rmax (TFlop/s)  \\\n",
       "0  Supercomputer Fugaku - Supercomputer Fugaku, A...  7299072        415530.0   \n",
       "1  Summit - IBM Power System AC922, IBM POWER9 22...  2414592        148600.0   \n",
       "2  Sierra - IBM Power System AC922, IBM POWER9 22...  1572480         94640.0   \n",
       "\n",
       "   Rpeak (TFlop/s)  Power (kW)  \n",
       "0         513854.7     28335.0  \n",
       "1         200794.9     10096.0  \n",
       "2         125712.0      7438.0  "
      ]
     },
     "execution_count": 4,
     "metadata": {},
     "output_type": "execute_result"
    }
   ],
   "source": [
    "# GET contents of latest article\n",
    "r = http.request('GET', article_href)\n",
    "soup = BeautifulSoup(r.data, 'html.parser')\n",
    "\n",
    "table = soup.find_all('table')\n",
    "df = pd.read_html(str(table))[0]\n",
    "df.sort_values(by=['Rank']).head(3)\n",
    "\n"
   ]
  },
  {
   "cell_type": "code",
   "execution_count": null,
   "metadata": {},
   "outputs": [],
   "source": []
  },
  {
   "cell_type": "code",
   "execution_count": null,
   "metadata": {},
   "outputs": [],
   "source": []
  }
 ],
 "metadata": {
  "kernelspec": {
   "display_name": "Python 3",
   "language": "python",
   "name": "python3"
  },
  "language_info": {
   "codemirror_mode": {
    "name": "ipython",
    "version": 3
   },
   "file_extension": ".py",
   "mimetype": "text/x-python",
   "name": "python",
   "nbconvert_exporter": "python",
   "pygments_lexer": "ipython3",
   "version": "3.8.5"
  }
 },
 "nbformat": 4,
 "nbformat_minor": 4
}
